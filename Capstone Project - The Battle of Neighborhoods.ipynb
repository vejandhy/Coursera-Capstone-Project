{
    "nbformat_minor": 1, 
    "cells": [
        {
            "source": "# Capstone Project - The Battle of Neighborhoods (Week 1)", 
            "cell_type": "markdown", 
            "metadata": {
                "collapsed": true
            }
        }, 
        {
            "source": "## Business Problem Statement:: \n\nABC Travel Agency (a.k.a 'ABC') is a new start up company that is into the business since 2017. In the initial stage, the company was running smoothly attracting the travellers with good itineraries and suggestions. However, due to the increase in latest technology the competition got increased and several competitors are into the market which is affecting the business of 'ABC'. Their recommendations on travel itinerary to their customers has not yielded much needed growth in the business. If this trend continues, then the company might shut down soon.", 
            "cell_type": "markdown", 
            "metadata": {}
        }, 
        {
            "source": "## Background::\n\nLocation data is relatively available from multiple sources like Facebook check-ins, TripAdvisor, Google Maps, Foursquare etc. The emergence of location services has created new capabilities and existing businesses are finding new threats every day. Start-ups leveraging new technologies and innovative business models have continued to disrupt and influence how customers choose their travel destinations, activities to engage in, places to stay and eat, and the number of travelers suitable for a specific season. To remain competitive, businesses have embraced use of location data to identify consumer patterns, tastes, and trends. \n\nAfter learning from some well-wishers, ABC has decided to change their existing business model by applying data science and machine learning techniques. It is their believe that data science will improve their customer experience, grow customer loyalty, promote the company brand and set the company out as a choice travel agent.\n", 
            "cell_type": "markdown", 
            "metadata": {}
        }, 
        {
            "source": "## Data Section: Data sources for the project\n\nWe will explicitly use Foursquare location data, top tips, ratings, favourites, distances, user experience etc which shall be used to apply data science techniques to solve the above business problem. The data collected will involve comparison and segmentation of two locations to determine which is the best location to recommend to a customer. We will consider two locations as recommended by the business i.e., 1) Miami Beach, FL and 2) Coronado Beach, CA. \n\nThe customer has requested our business to get them a location with the best coffee shop. We examine these two locations to get the best coffee shops and recommend them to our customers.\n\n1. We will leverage the recommender systems capabilities enabled by Foursquare and conduct the comparison of the data points between each location to derive appropriate recommendations.\n2. Get the Geo locations of the beaches using \"geolocator.geocode\" i.e., convert the address into latitude and longitude.\n3. Perform a search with a specific key word = 'Coffee'\n4. Perform the GET request and examine the results using location id.\n5. Get the number of tips for each location\n6. Gather frequent user feedback and suggesions\n7. Explore the ratings of the coffee shops\n8. Narrow down the venues of each beaches and performe recommendations for the best 'Coffee shop' for the customers.", 
            "cell_type": "markdown", 
            "metadata": {}
        }, 
        {
            "execution_count": null, 
            "cell_type": "code", 
            "metadata": {}, 
            "outputs": [], 
            "source": ""
        }
    ], 
    "metadata": {
        "kernelspec": {
            "display_name": "Python 3.5", 
            "name": "python3", 
            "language": "python"
        }, 
        "language_info": {
            "mimetype": "text/x-python", 
            "nbconvert_exporter": "python", 
            "version": "3.5.5", 
            "name": "python", 
            "file_extension": ".py", 
            "pygments_lexer": "ipython3", 
            "codemirror_mode": {
                "version": 3, 
                "name": "ipython"
            }
        }, 
        "celltoolbar": "Raw Cell Format"
    }, 
    "nbformat": 4
}