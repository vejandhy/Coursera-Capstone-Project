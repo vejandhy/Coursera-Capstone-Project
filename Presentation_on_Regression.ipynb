{
    "nbformat_minor": 1, 
    "cells": [
        {
            "source": "# Presentation on Linear Regression vs Logistic Regression", 
            "cell_type": "markdown", 
            "metadata": {
                "collapsed": true
            }
        }, 
        {
            "source": "## Introduction\nLinear and Logistic regression are the most basic form of regression which are commonly used now a days. The essential difference between these two is that Logistic regression is used when the dependent variable is binary in nature. In contrast, Linear regression is used when the dependent variable is continuous and nature of the regression line is linear.\n\nRegression is a technique used to predict the value of a response (dependent) variables, from one or more predictor (independent) variables, where the variable are numeric. There are various forms of regression such as linear, multiple, logistic, polynomial, non-parametric, etc. In this presentation, we will discuss the difference between Linear vs Logistic Regression.", 
            "cell_type": "markdown", 
            "metadata": {}
        }, 
        {
            "source": "## Agenda\n1. Definition\n2. Equations\n3. Key Differences between Linear Regression vs Logistic Regression\n4. Conclusion", 
            "cell_type": "markdown", 
            "metadata": {}
        }, 
        {
            "source": "### Definition of Linear Regression:\nThe linear regression technique involves the continuous dependent variable and the independent variables can be continuous or discrete. By using best fit straight line linear regression sets up a relationship between dependent variable (Y) and one or more independent variables (X). In other words, there exist a linear relationship between independent and dependent variables.\n\nThe difference between linear and multiple linear regression is that the linear regression contains only one independent variable while multiple regression contains more than one independent variables. The best fit line in linear regression is obtained through least square method.\n\nThe following equation is used to represent a linear regression model: Y=b0+b1*X+e, Where b0 is the intercept, b1 is the slope of the line and e is the error. Here Y is dependent variable and X is an independent variable.", 
            "cell_type": "markdown", 
            "metadata": {}
        }, 
        {
            "source": "### Definition of Logistic Regression:\nThe logistic regression technique involves dependent variable which can be represented in the binary (0 or 1, true or false, yes or no) values, means that the outcome could only be in either one form of two. For example, it can be utilized when we need to find the probability of successful or fail event. Here, the same formula is used with the additional sigmoid function, and the value of Y ranges from 0 to 1.\n\nLogistic Regression equation: Y=b0+b1*X1+b2*X2...+bn*Xn\nLogistic functions are used in the logistic regression to identify how the probability P of an event is affected by one or more dependent variables.", 
            "cell_type": "markdown", 
            "metadata": {}
        }, 
        {
            "source": "### Key differences between Linear Regression and Logistic Regression:\n1. The Linear regression models data uses continuous numeric value. As against, logistic regression models the data in the binary values.\n2. Linear regression requires to establish the linear relationship among dependent and independent variable whereas it is not necessary for logistic regression.\n3. In the linear regression, the independent variable can be correlated with each other. On the contrary, in the logistic regression, the variable must not be correlated with each other.", 
            "cell_type": "markdown", 
            "metadata": {}
        }, 
        {
            "source": "### Conclusion:\nLinear regression models data using a straight line where a random variable, Y(response variable) is modelled as a linear function of another random variable, X (predictor variable). On the other hand, the logistic regression models the probability of the events in bivariate which are essentially occurring as a linear function of a set of dependent variables.", 
            "cell_type": "markdown", 
            "metadata": {}
        }, 
        {
            "execution_count": null, 
            "cell_type": "code", 
            "metadata": {}, 
            "outputs": [], 
            "source": ""
        }
    ], 
    "metadata": {
        "kernelspec": {
            "display_name": "Python 3.5", 
            "name": "python3", 
            "language": "python"
        }, 
        "language_info": {
            "mimetype": "text/x-python", 
            "nbconvert_exporter": "python", 
            "version": "3.5.5", 
            "name": "python", 
            "file_extension": ".py", 
            "pygments_lexer": "ipython3", 
            "codemirror_mode": {
                "version": 3, 
                "name": "ipython"
            }
        }
    }, 
    "nbformat": 4
}