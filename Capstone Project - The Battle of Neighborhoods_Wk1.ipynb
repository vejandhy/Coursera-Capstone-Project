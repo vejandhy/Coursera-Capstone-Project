{
    "nbformat_minor": 1, 
    "cells": [
        {
            "source": "# Capstone Project - The Battle of Neighborhoods (Week 1)", 
            "cell_type": "markdown", 
            "metadata": {
                "collapsed": true
            }
        }, 
        {
            "source": "## Business Problem Statement:: \n\nABC Travel Agency (a.k.a 'ABC') is a new start up company that is into the business since 2017. In the initial stage, the company was running smoothly attracting the travellers with good itineraries and suggestions. However, due to the increase in latest technology the competition got increased and several competitors are into the market which is affecting the business of 'ABC'. Their recommendations on travel itinerary to their customers has not yielded much needed growth in the business. If this trend continues, then the company might shut down soon.", 
            "cell_type": "markdown", 
            "metadata": {}
        }, 
        {
            "source": "## Background::\n\nLocation data is relatively available from multiple sources like Facebook check-ins, TripAdvisor, Google Maps, Foursquare etc. The emergence of location services has created new capabilities and existing businesses are finding new threats every day. Start-ups leveraging new technologies and innovative business models have continued to disrupt and influence how customers choose their travel destinations, activities to engage in, places to stay and eat, and the number of travelers suitable for a specific season. To remain competitive, businesses have embraced use of location data to identify consumer patterns, tastes, and trends. \n\nAfter learning from some well-wishers, ABC has decided to change their existing business model by applying data science and machine learning techniques. It is their believe that data science will improve their customer experience, grow customer loyalty, promote the company brand and set the company out as a choice travel agent.\n", 
            "cell_type": "markdown", 
            "metadata": {}
        }, 
        {
            "execution_count": null, 
            "cell_type": "code", 
            "metadata": {}, 
            "outputs": [], 
            "source": ""
        }
    ], 
    "metadata": {
        "kernelspec": {
            "display_name": "Python 3.5", 
            "name": "python3", 
            "language": "python"
        }, 
        "language_info": {
            "mimetype": "text/x-python", 
            "nbconvert_exporter": "python", 
            "version": "3.5.5", 
            "name": "python", 
            "file_extension": ".py", 
            "pygments_lexer": "ipython3", 
            "codemirror_mode": {
                "version": 3, 
                "name": "ipython"
            }
        }, 
        "celltoolbar": "Raw Cell Format"
    }, 
    "nbformat": 4
}