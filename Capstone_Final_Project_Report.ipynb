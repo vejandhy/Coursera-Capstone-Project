{
    "nbformat_minor": 1, 
    "cells": [
        {
            "source": "# CAPSTONE FINAL PROJECT REPORT", 
            "cell_type": "markdown", 
            "metadata": {
                "collapsed": true
            }
        }, 
        {
            "source": "## Report Title:: Capstone Project - The Battle of Neighbourhoods", 
            "cell_type": "markdown", 
            "metadata": {}
        }, 
        {
            "source": "## Business Problem Statement::\nABC Travel Agency (a.k.a 'ABC') is a new start up company that is into the business since 2017. In the initial stage, the company was running smoothly attracting the travellers with good itineraries and suggestions. However, due to the increase in latest technology the competition got increased and several competitors are into the market which is affecting the business of 'ABC'. Their recommendations on travel itinerary to their customers has not yielded much needed growth in the business. If this trend continues, then the company might shut down soon.", 
            "cell_type": "markdown", 
            "metadata": {}
        }, 
        {
            "source": "## Background::\nLocation data is relatively available from multiple sources like Facebook check-ins, TripAdvisor, Google Maps, Foursquare etc. The emergence of location services has created new capabilities and existing businesses are finding new threats every day. Start-ups leveraging new technologies and innovative business models have continued to disrupt and influence how customers choose their travel destinations, activities to engage in, places to stay and eat, and the number of travelers suitable for a specific season. To remain competitive, businesses have embraced use of location data to identify consumer patterns, tastes, and trends.\n\nAfter learning from some well-wishers, ABC has decided to change their existing business model by applying data science and machine learning techniques. It is their believe that data science will improve their customer experience, grow customer loyalty, promote the company brand and set the company out as a choice travel agent.", 
            "cell_type": "markdown", 
            "metadata": {}
        }, 
        {
            "source": "## Data Section: Data sources for the project\nWe will explicitly use Foursquare location data, top tips, ratings, favourites, distances, user experience etc which shall be used to apply data science techniques to solve the above business problem. The data collected will involve comparison and segmentation of two locations to determine which is the best location to recommend to a customer. We will consider two locations as recommended by the business i.e., 1) Miami Beach, FL and 2) Coronado Beach, CA.\n\nThe customer has requested our business to get them a location with the best coffee shop. We examine these two locations to get the best coffee shops and recommend them to our customers.\n\n1. We will leverage the recommender systems capabilities enabled by Foursquare and conduct the comparison of the data points between each location to derive appropriate recommendations.\n2. Get the Geo locations of the beaches using \"geolocator.geocode\" i.e., convert the address into latitude and longitude.\n3. Perform a search with a specific key word = 'Coffee'\n4. Perform the GET request and examine the results using location id.\n5. Get the number of tips for each location\n6. Gather frequent user feedback and suggesions\n7. Explore the ratings of the coffee shops\n8. Narrow down the venues of each beaches and performe recommendations for the best 'Coffee shop' for the customers.\n", 
            "cell_type": "markdown", 
            "metadata": {}
        }, 
        {
            "source": "## Methodology::\nThe data on this project was accessed through FourSquare API interface. The data was then visualized using folium package to see the number of coffee shops near Miami Beach, FL and Coronado Beach, CA. The business requirements included a bit of shopping places as well as good site-seeing places. The most important requirement was to find a good coffee shop. The data extracted from the FourSquare API will be arranged as a dataframe for visualization.", 
            "cell_type": "markdown", 
            "metadata": {}
        }, 
        {
            "source": "## Results::\n### Miami Beach\nWe found 30 coffee shops. The nearest was Starbucks, which was 249 meters from the beach. It has a rating of 8.2 and has 79 tips. The coffee shops are closely located to each other meaning that the area attracts more customers.\n\n### Coronado Beach\nWe found 30 coffee shops. The nearest Starbucks coffee was at 632 meters from the beach. It has a rating of 7.7 and 38 tips. The coffee shops are located a bit far from each other indicating that the area has lesser concentration of coffee customers.", 
            "cell_type": "markdown", 
            "metadata": {}
        }, 
        {
            "source": "## Discussion::\nBased on the customer requirements for good coffee shops and analysis presented above, we recommend Miami Beach to our customers. There are a quite few reasons which made us to select Miami Beach as the best location, some of which are mentions aforeside: Firstly, It has closer proximity of coffee shops especially 'Starbucks' nearest to the beach (about 249 meters). Secondly, the rating of coffee shops (8.2) are higher than Coronado beach. Thirdly, customer has posted many tips (about 79 tips) as compared to just 38 tips at Coronado beach. We hope that the higher concentration of coffee shops in Miami Beach as well as availability of quality coffee shops like Starbucks will give our customer good selection and variety.", 
            "cell_type": "markdown", 
            "metadata": {}
        }, 
        {
            "source": "## Conclusion::\nFrom the above analysis, discussion it is clear that applying the Machine Learning techniques and Data Science principles, we have been able to full-proof our analysis and come to a conclusion. With this research and analysis, we have been able to compare the two locations and visualized the distribution of coffee shops in these areas. By using the location data and identifying the customer trends, patterns and taste, we have been able to determine the new model of approach which will stand as a differentiate from the competitors. This research will help us to customize the travel experience for our customers.", 
            "cell_type": "markdown", 
            "metadata": {}
        }, 
        {
            "execution_count": null, 
            "cell_type": "code", 
            "metadata": {}, 
            "outputs": [], 
            "source": ""
        }
    ], 
    "metadata": {
        "kernelspec": {
            "display_name": "Python 3.5", 
            "name": "python3", 
            "language": "python"
        }, 
        "language_info": {
            "mimetype": "text/x-python", 
            "nbconvert_exporter": "python", 
            "version": "3.5.5", 
            "name": "python", 
            "file_extension": ".py", 
            "pygments_lexer": "ipython3", 
            "codemirror_mode": {
                "version": 3, 
                "name": "ipython"
            }
        }
    }, 
    "nbformat": 4
}